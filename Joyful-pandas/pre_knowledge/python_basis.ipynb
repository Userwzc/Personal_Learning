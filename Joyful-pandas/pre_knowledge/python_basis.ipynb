{
 "cells": [
  {
   "cell_type": "markdown",
   "id": "5ec4b126",
   "metadata": {},
   "source": [
    "## 一、Python基础\n",
    "### 1.列表表达式与条件赋值"
   ]
  },
  {
   "cell_type": "code",
   "execution_count": 1,
   "id": "3d693e72",
   "metadata": {},
   "outputs": [
    {
     "data": {
      "text/plain": [
       "[0, 2, 4, 6, 8]"
      ]
     },
     "execution_count": 1,
     "metadata": {},
     "output_type": "execute_result"
    }
   ],
   "source": [
    "L = []\n",
    "def my_func(x):\n",
    "    return 2*x\n",
    "for i in range(5):\n",
    "    L.append(my_func(i))\n",
    "L"
   ]
  },
  {
   "cell_type": "code",
   "execution_count": 2,
   "id": "8a63007b",
   "metadata": {},
   "outputs": [
    {
     "data": {
      "text/plain": [
       "[0, 2, 4, 6, 8]"
      ]
     },
     "execution_count": 2,
     "metadata": {},
     "output_type": "execute_result"
    }
   ],
   "source": [
    "# 可以使用列表表达式简化上述代码L\n",
    "[my_func(i) for i in range(5)]"
   ]
  },
  {
   "cell_type": "code",
   "execution_count": 3,
   "id": "df3fd47b",
   "metadata": {},
   "outputs": [
    {
     "data": {
      "text/plain": [
       "['a_c', 'a_d', 'b_c', 'b_d']"
      ]
     },
     "execution_count": 3,
     "metadata": {},
     "output_type": "execute_result"
    }
   ],
   "source": [
    "# 列表表达式还支持多层嵌套，如下面的例子中第一个for为外层循环，第二个for为内层循环\n",
    "[m + '_' + n for m in ['a', 'b'] for n in ['c', 'd']]"
   ]
  },
  {
   "cell_type": "code",
   "execution_count": 4,
   "id": "31b044c8",
   "metadata": {},
   "outputs": [
    {
     "data": {
      "text/plain": [
       "'cat'"
      ]
     },
     "execution_count": 4,
     "metadata": {},
     "output_type": "execute_result"
    }
   ],
   "source": [
    "# 除了列表表达式，另一个实用的语法糖是带有if选择的条件赋值,其形式为 value = a if condition else b\n",
    "value = 'cat' if 2 > 1 else 'dog'\n",
    "value"
   ]
  },
  {
   "cell_type": "code",
   "execution_count": 5,
   "id": "a5c4a28a",
   "metadata": {},
   "outputs": [],
   "source": [
    "# 等价于\n",
    "a,b = 'cat','dog'\n",
    "condition = 2 > 1\n",
    "if condition:\n",
    "    value = a\n",
    "else:\n",
    "    value = b"
   ]
  },
  {
   "cell_type": "code",
   "execution_count": 8,
   "id": "5a40de34",
   "metadata": {},
   "outputs": [
    {
     "data": {
      "text/plain": [
       "[1, 2, 3, 4, 5, 5, 5]"
      ]
     },
     "execution_count": 8,
     "metadata": {},
     "output_type": "execute_result"
    }
   ],
   "source": [
    "# 下面举一个例子，截断列表中超过5的元素，即超过5的用5代替，小于5的保留原来的值：\n",
    "L = [1,2,3,4,5,6,7]\n",
    "[i if i <= 5 else 5 for i in L]"
   ]
  },
  {
   "cell_type": "markdown",
   "id": "3d4f86c4",
   "metadata": {},
   "source": [
    "### 2.匿名函数与map方法"
   ]
  },
  {
   "cell_type": "code",
   "execution_count": 9,
   "id": "639e0cb9",
   "metadata": {},
   "outputs": [
    {
     "data": {
      "text/plain": [
       "6"
      ]
     },
     "execution_count": 9,
     "metadata": {},
     "output_type": "execute_result"
    }
   ],
   "source": [
    "# 一些函数定义具有清晰简单的映射关系,可以使用匿名函数的方法简介表示\n",
    "my_func = lambda x: 2*x\n",
    "my_func(3)"
   ]
  },
  {
   "cell_type": "code",
   "execution_count": 10,
   "id": "f05d9c96",
   "metadata": {},
   "outputs": [
    {
     "data": {
      "text/plain": [
       "5"
      ]
     },
     "execution_count": 10,
     "metadata": {},
     "output_type": "execute_result"
    }
   ],
   "source": [
    "multi_para_func = lambda a,b: a + b\n",
    "multi_para_func(2,3)"
   ]
  },
  {
   "cell_type": "code",
   "execution_count": 11,
   "id": "8f23dd2d",
   "metadata": {},
   "outputs": [
    {
     "data": {
      "text/plain": [
       "[0, 2, 4, 6, 8]"
      ]
     },
     "execution_count": 11,
     "metadata": {},
     "output_type": "execute_result"
    }
   ],
   "source": [
    "# 但是上面的用法其实违背了“匿名”的含义，事实上，它往往在无需多处调用的场合进行使用，例如上面列表推导式中的例子，用户不关心函数的名字，只关心这种映射的关系：\n",
    "[(lambda x: 2*x)(i) for i in range(5)]"
   ]
  },
  {
   "cell_type": "code",
   "execution_count": 12,
   "id": "8b4e66a6",
   "metadata": {},
   "outputs": [
    {
     "data": {
      "text/plain": [
       "[0, 2, 4, 6, 8]"
      ]
     },
     "execution_count": 12,
     "metadata": {},
     "output_type": "execute_result"
    }
   ],
   "source": [
    "# 对于上述的这种列表推导式的匿名函数映射，Python中提供了map函数来完成，它返回的是一个map对象，需要通过list转为列表:\n",
    "list(map(lambda x: 2*x, range(5)))"
   ]
  },
  {
   "cell_type": "code",
   "execution_count": 13,
   "id": "63b32d3c",
   "metadata": {},
   "outputs": [
    {
     "data": {
      "text/plain": [
       "['0_a', '1_b', '2_c', '3_d', '4_e']"
      ]
     },
     "execution_count": 13,
     "metadata": {},
     "output_type": "execute_result"
    }
   ],
   "source": [
    "# 对于多个输入值的函数映射，可以通过追加迭代对象实现\n",
    "list(map(lambda x,y: str(x) + '_' + str(y), range(5), list('abcde')))"
   ]
  },
  {
   "cell_type": "markdown",
   "id": "6a101517",
   "metadata": {},
   "source": [
    "###  3.zip对象与enumerate方法"
   ]
  },
  {
   "cell_type": "code",
   "execution_count": 22,
   "id": "5a8b1f63",
   "metadata": {},
   "outputs": [
    {
     "data": {
      "text/plain": [
       "[('a', 'd', 'h'), ('b', 'e', 'i'), ('c', 'f', 'j')]"
      ]
     },
     "execution_count": 22,
     "metadata": {},
     "output_type": "execute_result"
    }
   ],
   "source": [
    "# zip函数能够把多个可迭代对象打包成一个元组构成的可迭代对象，它返回了一个zip对象，通过tuple,list可以得到相应的打包结果：\n",
    "L1, L2 ,L3 = list('abc'), list('def'), list('hij')\n",
    "list(zip(L1, L2, L3))"
   ]
  },
  {
   "cell_type": "code",
   "execution_count": 23,
   "id": "453a2dc0",
   "metadata": {},
   "outputs": [
    {
     "data": {
      "text/plain": [
       "(('a', 'd', 'h'), ('b', 'e', 'i'), ('c', 'f', 'j'))"
      ]
     },
     "execution_count": 23,
     "metadata": {},
     "output_type": "execute_result"
    }
   ],
   "source": [
    "tuple(zip(L1, L2, L3))"
   ]
  },
  {
   "cell_type": "code",
   "execution_count": 24,
   "id": "877a58d3",
   "metadata": {},
   "outputs": [
    {
     "name": "stdout",
     "output_type": "stream",
     "text": [
      "a d h\n",
      "b e i\n",
      "c f j\n"
     ]
    }
   ],
   "source": [
    "# 往往会在循环迭代的使用使用到zip函数：\n",
    "for i,j,k in zip(L1,L2,L3):\n",
    "    print(i,j,k)"
   ]
  },
  {
   "cell_type": "code",
   "execution_count": 25,
   "id": "3d991e0d",
   "metadata": {},
   "outputs": [
    {
     "name": "stdout",
     "output_type": "stream",
     "text": [
      "0 a\n",
      "1 b\n",
      "2 c\n",
      "3 d\n"
     ]
    }
   ],
   "source": [
    "# enumerate是一种特殊的打包，可以在迭代时绑定迭代元素的遍历序号:\n",
    "L = list('abcd')\n",
    "for index, value in enumerate(L):\n",
    "    print(index,value)"
   ]
  },
  {
   "cell_type": "code",
   "execution_count": 26,
   "id": "36bfcce3",
   "metadata": {},
   "outputs": [
    {
     "name": "stdout",
     "output_type": "stream",
     "text": [
      "0 a\n",
      "1 b\n",
      "2 c\n",
      "3 d\n"
     ]
    }
   ],
   "source": [
    "# 使用zip对象也能够简单地实现这个功能:\n",
    "for index, value in zip(range(len(L)), L):\n",
    "    print(index, value)"
   ]
  },
  {
   "cell_type": "code",
   "execution_count": 27,
   "id": "8f6f194f",
   "metadata": {},
   "outputs": [
    {
     "data": {
      "text/plain": [
       "{'a': 'd', 'b': 'e', 'c': 'f'}"
      ]
     },
     "execution_count": 27,
     "metadata": {},
     "output_type": "execute_result"
    }
   ],
   "source": [
    "# 当需要对两个列表之间建立字典映射时，可以利用zip对象:\n",
    "dict(zip(L1,L2))"
   ]
  },
  {
   "cell_type": "code",
   "execution_count": 28,
   "id": "d6eda468",
   "metadata": {},
   "outputs": [
    {
     "data": {
      "text/plain": [
       "[('a', 'd', 'h'), ('b', 'e', 'i'), ('c', 'f', 'j')]"
      ]
     },
     "execution_count": 28,
     "metadata": {},
     "output_type": "execute_result"
    }
   ],
   "source": [
    "# 既然有了压缩函数，那么python也提供了*操作符和zip联合使用来实现解压操作:\n",
    "zipped = list(zip(L1,L2,L3))\n",
    "zipped"
   ]
  },
  {
   "cell_type": "code",
   "execution_count": 30,
   "id": "f9702c99",
   "metadata": {},
   "outputs": [
    {
     "data": {
      "text/plain": [
       "[('a', 'b', 'c'), ('d', 'e', 'f'), ('h', 'i', 'j')]"
      ]
     },
     "execution_count": 30,
     "metadata": {},
     "output_type": "execute_result"
    }
   ],
   "source": [
    "list(zip(*zipped)) # 三个元组分别对应原来的列表"
   ]
  }
 ],
 "metadata": {
  "kernelspec": {
   "display_name": "base",
   "language": "python",
   "name": "python3"
  },
  "language_info": {
   "codemirror_mode": {
    "name": "ipython",
    "version": 3
   },
   "file_extension": ".py",
   "mimetype": "text/x-python",
   "name": "python",
   "nbconvert_exporter": "python",
   "pygments_lexer": "ipython3",
   "version": "3.13.5"
  }
 },
 "nbformat": 4,
 "nbformat_minor": 5
}
