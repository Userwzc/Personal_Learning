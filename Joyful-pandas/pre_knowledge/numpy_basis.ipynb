{
 "cells": [
  {
   "cell_type": "markdown",
   "id": "fb3128bf-5bd6-4e6a-a665-d62f11f69a80",
   "metadata": {},
   "source": [
    "## 二、Numpy基础\n",
    "### 1.np数组的构造"
   ]
  },
  {
   "cell_type": "code",
   "execution_count": 2,
   "id": "983e9299-407c-420e-bad4-ceb4b959ed2b",
   "metadata": {},
   "outputs": [
    {
     "data": {
      "text/plain": [
       "array([1, 2, 3])"
      ]
     },
     "execution_count": 2,
     "metadata": {},
     "output_type": "execute_result"
    }
   ],
   "source": [
    "# 最一般的方式是通过array来构造\n",
    "import numpy as np\n",
    "np.array([1,2,3])"
   ]
  },
  {
   "cell_type": "code",
   "execution_count": 3,
   "id": "f0571414",
   "metadata": {},
   "outputs": [
    {
     "data": {
      "text/plain": [
       "array([1. , 1.4, 1.8, 2.2, 2.6, 3. , 3.4, 3.8, 4.2, 4.6, 5. ])"
      ]
     },
     "execution_count": 3,
     "metadata": {},
     "output_type": "execute_result"
    }
   ],
   "source": [
    "# 下面讨论一些特殊数组的生成方式\n",
    "# a.等差序列：np.linspace;np.arange\n",
    "np.linspace(1,5,11) # 起始、终止（包含）、样本个数"
   ]
  },
  {
   "cell_type": "code",
   "execution_count": 4,
   "id": "666ea2ea",
   "metadata": {},
   "outputs": [
    {
     "data": {
      "text/plain": [
       "array([1, 3])"
      ]
     },
     "execution_count": 4,
     "metadata": {},
     "output_type": "execute_result"
    }
   ],
   "source": [
    "np.arange(1,5,2) # 起始、终止（不包含）、步长"
   ]
  },
  {
   "cell_type": "code",
   "execution_count": 5,
   "id": "f5969621",
   "metadata": {},
   "outputs": [
    {
     "data": {
      "text/plain": [
       "array([[0., 0., 0.],\n",
       "       [0., 0., 0.]])"
      ]
     },
     "execution_count": 5,
     "metadata": {},
     "output_type": "execute_result"
    }
   ],
   "source": [
    "# b.特殊矩阵：zeros, eye, full\n",
    "np.zeros((2,3)) # 传入元组表示各维度大小"
   ]
  },
  {
   "cell_type": "code",
   "execution_count": 6,
   "id": "8400c8dc",
   "metadata": {},
   "outputs": [
    {
     "data": {
      "text/plain": [
       "array([[1., 0., 0.],\n",
       "       [0., 1., 0.],\n",
       "       [0., 0., 1.]])"
      ]
     },
     "execution_count": 6,
     "metadata": {},
     "output_type": "execute_result"
    }
   ],
   "source": [
    "np.eye(3) # 3*3的单位矩阵"
   ]
  },
  {
   "cell_type": "code",
   "execution_count": 7,
   "id": "36ad890a",
   "metadata": {},
   "outputs": [
    {
     "data": {
      "text/plain": [
       "array([[0., 1., 0.],\n",
       "       [0., 0., 1.],\n",
       "       [0., 0., 0.]])"
      ]
     },
     "execution_count": 7,
     "metadata": {},
     "output_type": "execute_result"
    }
   ],
   "source": [
    "np.eye(3,k = 1) # 偏移主对角线1个单位的伪单位矩阵"
   ]
  },
  {
   "cell_type": "code",
   "execution_count": 8,
   "id": "a3f2bd12",
   "metadata": {},
   "outputs": [
    {
     "data": {
      "text/plain": [
       "array([[10, 10, 10],\n",
       "       [10, 10, 10]])"
      ]
     },
     "execution_count": 8,
     "metadata": {},
     "output_type": "execute_result"
    }
   ],
   "source": [
    "np.full((2,3),10) # 元组传入大小,10为填充值"
   ]
  },
  {
   "cell_type": "code",
   "execution_count": 9,
   "id": "e347aa19",
   "metadata": {},
   "outputs": [
    {
     "data": {
      "text/plain": [
       "array([[1, 2, 3],\n",
       "       [1, 2, 3]])"
      ]
     },
     "execution_count": 9,
     "metadata": {},
     "output_type": "execute_result"
    }
   ],
   "source": [
    "np.full((2,3),[1,2,3]) # 每行填入相同的列表"
   ]
  },
  {
   "cell_type": "code",
   "execution_count": 10,
   "id": "47569fbb",
   "metadata": {},
   "outputs": [
    {
     "data": {
      "text/plain": [
       "array([0.5819963 , 0.96856315, 0.04802621])"
      ]
     },
     "execution_count": 10,
     "metadata": {},
     "output_type": "execute_result"
    }
   ],
   "source": [
    "# c.随机矩阵: np.random\n",
    "# 最常用的随机生成函数为rand,randn, randint,choice,它们分别表示0-1均匀分布的随机数组，标准正态分布的随机数组，随机整数组和随机列表抽样：\n",
    "np.random.rand(3) # 3个0-1均匀分布的随机数"
   ]
  },
  {
   "cell_type": "code",
   "execution_count": 11,
   "id": "10950a0e",
   "metadata": {},
   "outputs": [
    {
     "data": {
      "text/plain": [
       "array([[0.98192951, 0.86159846, 0.06302107],\n",
       "       [0.61361005, 0.50778982, 0.88628674],\n",
       "       [0.30355022, 0.00121619, 0.874001  ]])"
      ]
     },
     "execution_count": 11,
     "metadata": {},
     "output_type": "execute_result"
    }
   ],
   "source": [
    "np.random.rand(3,3) # 3*3的0-1均匀分布随机矩阵"
   ]
  },
  {
   "cell_type": "code",
   "execution_count": 12,
   "id": "84f653ed",
   "metadata": {},
   "outputs": [
    {
     "data": {
      "text/plain": [
       "array([ 7.88745033,  9.78956514, 14.4452174 ])"
      ]
     },
     "execution_count": 12,
     "metadata": {},
     "output_type": "execute_result"
    }
   ],
   "source": [
    "# 对于服从区间a到b上的均匀分布可以如下生成：\n",
    "a, b = 5, 15\n",
    "(b-a) * np.random.rand(3) + a  # 3个服从a到b均匀分布的随机数"
   ]
  },
  {
   "cell_type": "code",
   "execution_count": 13,
   "id": "7fa07859",
   "metadata": {},
   "outputs": [
    {
     "data": {
      "text/plain": [
       "array([11.16709083, 13.1038782 ,  9.24373679])"
      ]
     },
     "execution_count": 13,
     "metadata": {},
     "output_type": "execute_result"
    }
   ],
   "source": [
    "# 一般地，可以选择已有的库函数：\n",
    "np.random.uniform(5,15,3)  # 3个服从5到15均匀分布的随机数"
   ]
  },
  {
   "cell_type": "code",
   "execution_count": 14,
   "id": "12618c39",
   "metadata": {},
   "outputs": [
    {
     "data": {
      "text/plain": [
       "array([ 0.79994571, -0.69969737,  0.72101801])"
      ]
     },
     "execution_count": 14,
     "metadata": {},
     "output_type": "execute_result"
    }
   ],
   "source": [
    "# randn生成N(0,1)的标准正态分布:\n",
    "np.random.randn(3)"
   ]
  },
  {
   "cell_type": "code",
   "execution_count": 15,
   "id": "7eaf0adf",
   "metadata": {},
   "outputs": [
    {
     "data": {
      "text/plain": [
       "array([[-1.09921927,  0.68731405],\n",
       "       [-0.04276146, -1.14687943]])"
      ]
     },
     "execution_count": 15,
     "metadata": {},
     "output_type": "execute_result"
    }
   ],
   "source": [
    "np.random.randn(2,2) # 2*2标准正态分布随机矩阵"
   ]
  },
  {
   "cell_type": "code",
   "execution_count": 16,
   "id": "b3d827c4",
   "metadata": {},
   "outputs": [
    {
     "data": {
      "text/plain": [
       "array([5.31658439, 5.25098012, 6.21887194])"
      ]
     },
     "execution_count": 16,
     "metadata": {},
     "output_type": "execute_result"
    }
   ],
   "source": [
    "# 对于服从方差为σ²，均值为μ的正态分布N(μ,σ²)的随机数，可以通过如下变换得到：\n",
    "sigma, mu = 2.5, 3\n",
    "mu + sigma * np.random.randn(3)"
   ]
  },
  {
   "cell_type": "code",
   "execution_count": 17,
   "id": "68469bc4",
   "metadata": {},
   "outputs": [
    {
     "data": {
      "text/plain": [
       "array([2.9035793 , 3.87204808, 6.3424893 ])"
      ]
     },
     "execution_count": 17,
     "metadata": {},
     "output_type": "execute_result"
    }
   ],
   "source": [
    "# 同样的，也可以通过已有的库函数生成：\n",
    "np.random.normal(3,2.5,3)  # 3个服从N(3,2.5²)的随机数"
   ]
  },
  {
   "cell_type": "code",
   "execution_count": 18,
   "id": "44d827d6",
   "metadata": {},
   "outputs": [
    {
     "data": {
      "text/plain": [
       "array([[11,  5],\n",
       "       [11,  7]], dtype=int32)"
      ]
     },
     "execution_count": 18,
     "metadata": {},
     "output_type": "execute_result"
    }
   ],
   "source": [
    "# randint可以指定生成随机整数的最小值最大值（不包含）和维度大小：\n",
    "low, high, size = 5, 15, (2,2) # 生成2*2的5到14之间的随机整数矩阵\n",
    "np.random.randint(low, high, size)"
   ]
  },
  {
   "cell_type": "code",
   "execution_count": 19,
   "id": "1a405699",
   "metadata": {},
   "outputs": [
    {
     "data": {
      "text/plain": [
       "array(['c', 'b'], dtype='<U1')"
      ]
     },
     "execution_count": 19,
     "metadata": {},
     "output_type": "execute_result"
    }
   ],
   "source": [
    "# choice可以从给定的列表中，以一定概率和方式抽取结果，当不指定概率时为均匀采样，默认抽取方式为有放回抽样：\n",
    "my_list = ['a','b','c','d']\n",
    "np.random.choice(my_list, 2, replace = False, p = [0.1,0.7,0.1,0.1]) # 从my_list中无放回抽取2个元素，且'b'被抽中的概率为0.7"
   ]
  },
  {
   "cell_type": "code",
   "execution_count": 20,
   "id": "c5e5d8f1",
   "metadata": {},
   "outputs": [
    {
     "data": {
      "text/plain": [
       "array([['a', 'b', 'a'],\n",
       "       ['a', 'd', 'd'],\n",
       "       ['d', 'c', 'a']], dtype='<U1')"
      ]
     },
     "execution_count": 20,
     "metadata": {},
     "output_type": "execute_result"
    }
   ],
   "source": [
    "np.random.choice(my_list,(3,3)) # 有放回抽取3*3元素矩阵"
   ]
  },
  {
   "cell_type": "code",
   "execution_count": 21,
   "id": "57b8ed33",
   "metadata": {},
   "outputs": [
    {
     "data": {
      "text/plain": [
       "array(['d', 'b', 'a', 'c'], dtype='<U1')"
      ]
     },
     "execution_count": 21,
     "metadata": {},
     "output_type": "execute_result"
    }
   ],
   "source": [
    "# 当返回的元素个数与原列表相同时，不放回抽样等价于使用permutation函数，即打散原列表：\n",
    "np.random.permutation(my_list)"
   ]
  },
  {
   "cell_type": "code",
   "execution_count": 22,
   "id": "2101922a",
   "metadata": {},
   "outputs": [
    {
     "data": {
      "text/plain": [
       "0.5488135039273248"
      ]
     },
     "execution_count": 22,
     "metadata": {},
     "output_type": "execute_result"
    }
   ],
   "source": [
    "# 最后需要提到的是随机种子，它能够固定随机数的输出结果:\n",
    "np.random.seed(0)\n",
    "np.random.rand()"
   ]
  },
  {
   "cell_type": "code",
   "execution_count": 23,
   "id": "57910309",
   "metadata": {},
   "outputs": [
    {
     "data": {
      "text/plain": [
       "0.5488135039273248"
      ]
     },
     "execution_count": 23,
     "metadata": {},
     "output_type": "execute_result"
    }
   ],
   "source": [
    "np.random.seed(0)\n",
    "np.random.rand()"
   ]
  },
  {
   "cell_type": "markdown",
   "id": "f075da0c",
   "metadata": {},
   "source": [
    "### 2.np数组的变形与合并"
   ]
  },
  {
   "cell_type": "code",
   "execution_count": 24,
   "id": "8a85398e",
   "metadata": {},
   "outputs": [
    {
     "data": {
      "text/plain": [
       "array([[0., 0.],\n",
       "       [0., 0.],\n",
       "       [0., 0.]])"
      ]
     },
     "execution_count": 24,
     "metadata": {},
     "output_type": "execute_result"
    }
   ],
   "source": [
    "# [a] 转置：T\n",
    "np.zeros((2,3)).T"
   ]
  },
  {
   "cell_type": "code",
   "execution_count": null,
   "id": "6a762a2a",
   "metadata": {},
   "outputs": [
    {
     "data": {
      "text/plain": [
       "array([[0., 0., 0.],\n",
       "       [0., 0., 0.],\n",
       "       [0., 0., 0.],\n",
       "       [0., 0., 0.]])"
      ]
     },
     "execution_count": 25,
     "metadata": {},
     "output_type": "execute_result"
    }
   ],
   "source": [
    "# [b] 合并操作：r_ , c_,分别沿第一轴和第二轴进行合并\n",
    "# 对二维数组而言，r_和c_分别表示上下合并和左右合并:\n",
    "np.r_[np.zeros((2,3)), np.zeros((2,3))] # 上下合并，结果为4*3矩阵"
   ]
  },
  {
   "cell_type": "code",
   "execution_count": 26,
   "id": "5b549bc7",
   "metadata": {},
   "outputs": [
    {
     "data": {
      "text/plain": [
       "array([[0., 0., 0., 0., 0., 0.],\n",
       "       [0., 0., 0., 0., 0., 0.]])"
      ]
     },
     "execution_count": 26,
     "metadata": {},
     "output_type": "execute_result"
    }
   ],
   "source": [
    "np.c_[np.zeros((2,3)), np.zeros((2,3))] # 左右合并，结果为2*6矩阵"
   ]
  },
  {
   "cell_type": "code",
   "execution_count": 27,
   "id": "06579c73",
   "metadata": {},
   "outputs": [
    {
     "data": {
      "text/plain": [
       "ValueError('all the input arrays must have same number of dimensions, but the array at index 0 has 1 dimension(s) and the array at index 1 has 2 dimension(s)')"
      ]
     },
     "execution_count": 27,
     "metadata": {},
     "output_type": "execute_result"
    }
   ],
   "source": [
    "# 一维数组和二维数组进行合并时，应当把其视作列向量，在长度匹配的情况下只能够使用左右合并的c_操作：\n",
    "try:\n",
    "    np.r_[np.array([0,0]), np.zeros((2,1))] \n",
    "except Exception as e:\n",
    "    Err_Msg = e\n",
    "Err_Msg"
   ]
  },
  {
   "cell_type": "code",
   "execution_count": 28,
   "id": "f006d29e",
   "metadata": {},
   "outputs": [
    {
     "data": {
      "text/plain": [
       "array([0., 0., 0., 0.])"
      ]
     },
     "execution_count": 28,
     "metadata": {},
     "output_type": "execute_result"
    }
   ],
   "source": [
    "np.r_[np.array([0,0]), np.zeros(2)] "
   ]
  },
  {
   "cell_type": "code",
   "execution_count": null,
   "id": "cb725678",
   "metadata": {},
   "outputs": [
    {
     "data": {
      "text/plain": [
       "array([[0., 0., 0., 0.],\n",
       "       [0., 0., 0., 0.]])"
      ]
     },
     "execution_count": 29,
     "metadata": {},
     "output_type": "execute_result"
    }
   ],
   "source": [
    "np.c_[np.array([0,0]),np.zeros((2,3))] "
   ]
  },
  {
   "cell_type": "code",
   "execution_count": 31,
   "id": "b0c22253",
   "metadata": {},
   "outputs": [
    {
     "data": {
      "text/plain": [
       "array([[0, 1, 2, 3],\n",
       "       [4, 5, 6, 7]])"
      ]
     },
     "execution_count": 31,
     "metadata": {},
     "output_type": "execute_result"
    }
   ],
   "source": [
    "# [c] 维度变换：reshape\n",
    "# reshape能够帮助用户把原数组按照新的维度重新排列。在使用时，有两种模式，分别为C模式和F模式，分别以逐行和逐列的顺序进行填充读取。\n",
    "target = np.arange(8).reshape(2,4) \n",
    "target"
   ]
  },
  {
   "cell_type": "code",
   "execution_count": null,
   "id": "68dc554d",
   "metadata": {},
   "outputs": [
    {
     "data": {
      "text/plain": [
       "array([[0, 1],\n",
       "       [2, 3],\n",
       "       [4, 5],\n",
       "       [6, 7]])"
      ]
     },
     "execution_count": 32,
     "metadata": {},
     "output_type": "execute_result"
    }
   ],
   "source": [
    "target.reshape((4,2), order='C')  # C模式，逐行读取和填充  order='C'为默认值"
   ]
  },
  {
   "cell_type": "code",
   "execution_count": 33,
   "id": "e7bf332e",
   "metadata": {},
   "outputs": [
    {
     "data": {
      "text/plain": [
       "array([[0, 2],\n",
       "       [4, 6],\n",
       "       [1, 3],\n",
       "       [5, 7]])"
      ]
     },
     "execution_count": 33,
     "metadata": {},
     "output_type": "execute_result"
    }
   ],
   "source": [
    "target.reshape((4,2), order='F') # F模式，逐列读取和填充"
   ]
  },
  {
   "cell_type": "code",
   "execution_count": 34,
   "id": "c5bb97c8",
   "metadata": {},
   "outputs": [
    {
     "data": {
      "text/plain": [
       "array([[0, 1],\n",
       "       [2, 3],\n",
       "       [4, 5],\n",
       "       [6, 7]])"
      ]
     },
     "execution_count": 34,
     "metadata": {},
     "output_type": "execute_result"
    }
   ],
   "source": [
    "# 特别地，由于被调用数组的大小是确定的，reshape允许有一个维度存在空缺,此时只需填充-1即可：\n",
    "target.reshape((4,-1))"
   ]
  },
  {
   "cell_type": "code",
   "execution_count": 35,
   "id": "70f64cf2",
   "metadata": {},
   "outputs": [
    {
     "data": {
      "text/plain": [
       "array([[1.],\n",
       "       [1.],\n",
       "       [1.]])"
      ]
     },
     "execution_count": 35,
     "metadata": {},
     "output_type": "execute_result"
    }
   ],
   "source": [
    "# 下面将n*1大小的数组转为1维数组的操作是经常使用的:\n",
    "target = np.ones((3,1))\n",
    "target"
   ]
  },
  {
   "cell_type": "code",
   "execution_count": 36,
   "id": "f2773931",
   "metadata": {},
   "outputs": [
    {
     "data": {
      "text/plain": [
       "array([1., 1., 1.])"
      ]
     },
     "execution_count": 36,
     "metadata": {},
     "output_type": "execute_result"
    }
   ],
   "source": [
    "target.reshape(-1)"
   ]
  },
  {
   "cell_type": "markdown",
   "id": "ac7dae12",
   "metadata": {},
   "source": [
    "### 3.np数组的切片与索引"
   ]
  },
  {
   "cell_type": "code",
   "execution_count": 37,
   "id": "378f1a8c",
   "metadata": {},
   "outputs": [
    {
     "data": {
      "text/plain": [
       "array([[0, 1, 2],\n",
       "       [3, 4, 5],\n",
       "       [6, 7, 8]])"
      ]
     },
     "execution_count": 37,
     "metadata": {},
     "output_type": "execute_result"
    }
   ],
   "source": [
    "# 数组的切片模式支持使用slice类型的start:end:step切片,还可以直接传入列表指定某个维度的索引进行切片:\n",
    "target = np.arange(9).reshape(3,3)\n",
    "target"
   ]
  },
  {
   "cell_type": "code",
   "execution_count": 41,
   "id": "6c901fd4",
   "metadata": {},
   "outputs": [
    {
     "data": {
      "text/plain": [
       "array([[0, 2],\n",
       "       [3, 5]])"
      ]
     },
     "execution_count": 41,
     "metadata": {},
     "output_type": "execute_result"
    }
   ],
   "source": [
    "target[:-1, [0,2]]"
   ]
  },
  {
   "cell_type": "code",
   "execution_count": 42,
   "id": "0629783b",
   "metadata": {},
   "outputs": [
    {
     "data": {
      "text/plain": [
       "array([[0, 2],\n",
       "       [6, 8]])"
      ]
     },
     "execution_count": 42,
     "metadata": {},
     "output_type": "execute_result"
    }
   ],
   "source": [
    "# 此外，还可以利用np.ix_在对应的维度上使用布尔索引，但此时不能使用slice切片:\n",
    "target[np.ix_([True, False, True], [True, False, True])]"
   ]
  },
  {
   "cell_type": "code",
   "execution_count": 43,
   "id": "b8ab1278",
   "metadata": {},
   "outputs": [
    {
     "data": {
      "text/plain": [
       "array([[3, 5],\n",
       "       [6, 8]])"
      ]
     },
     "execution_count": 43,
     "metadata": {},
     "output_type": "execute_result"
    }
   ],
   "source": [
    "target[np.ix_([1,2], [True, False, True])]"
   ]
  },
  {
   "cell_type": "code",
   "execution_count": 44,
   "id": "8c91aba0",
   "metadata": {},
   "outputs": [
    {
     "data": {
      "text/plain": [
       "array([0, 2, 4, 6, 8])"
      ]
     },
     "execution_count": 44,
     "metadata": {},
     "output_type": "execute_result"
    }
   ],
   "source": [
    "# 当数组维度为1维时，可以直接进行布尔索引，而无需np.ix_:\n",
    "new = target.reshape(-1)\n",
    "new[new%2==0]"
   ]
  },
  {
   "cell_type": "markdown",
   "id": "9be86ab7",
   "metadata": {},
   "source": [
    "### 4.常用函数"
   ]
  },
  {
   "cell_type": "code",
   "execution_count": 45,
   "id": "3dc4c61e",
   "metadata": {},
   "outputs": [
    {
     "data": {
      "text/plain": [
       "array([5, 1, 5, 5])"
      ]
     },
     "execution_count": 45,
     "metadata": {},
     "output_type": "execute_result"
    }
   ],
   "source": [
    "# 为了简单起见，这里假设下述函数输入的数组都是一维的\n",
    "# [a] where, where是一种条件函数，可以指定满足条件与不满足条件位置对应的填充值:\n",
    "a = np.array([-1,1,-1,0])\n",
    "np.where(a>0, a, 5) # 对应位置为True时填充a对应元素，否则填充5"
   ]
  },
  {
   "cell_type": "code",
   "execution_count": 46,
   "id": "6953450b",
   "metadata": {},
   "outputs": [
    {
     "data": {
      "text/plain": [
       "(array([0, 1, 3, 4, 5]),)"
      ]
     },
     "execution_count": 46,
     "metadata": {},
     "output_type": "execute_result"
    }
   ],
   "source": [
    "# [b] nonzero, argmax, argmin\n",
    "# 这三个函数返回的都是索引， nonzero返回非零数的索引， argmax，argmin分别返回最大和最小数的索引：\n",
    "a = np.array([-2,-5,0,1,3,-1])\n",
    "np.nonzero(a)"
   ]
  },
  {
   "cell_type": "code",
   "execution_count": 47,
   "id": "d4f8cc95",
   "metadata": {},
   "outputs": [
    {
     "data": {
      "text/plain": [
       "np.int64(4)"
      ]
     },
     "execution_count": 47,
     "metadata": {},
     "output_type": "execute_result"
    }
   ],
   "source": [
    "a.argmax()"
   ]
  },
  {
   "cell_type": "code",
   "execution_count": 48,
   "id": "aa86f64e",
   "metadata": {},
   "outputs": [
    {
     "data": {
      "text/plain": [
       "np.int64(1)"
      ]
     },
     "execution_count": 48,
     "metadata": {},
     "output_type": "execute_result"
    }
   ],
   "source": [
    "a.argmin()"
   ]
  },
  {
   "cell_type": "code",
   "execution_count": 49,
   "id": "dacc7f62",
   "metadata": {},
   "outputs": [
    {
     "data": {
      "text/plain": [
       "np.True_"
      ]
     },
     "execution_count": 49,
     "metadata": {},
     "output_type": "execute_result"
    }
   ],
   "source": [
    "# [c] any, all\n",
    "# any指当序列至少存在一个True或非零元素时返回True,否则返回False\n",
    "# all指当序列元素全为True或非零元素时返回True,否则返回False\n",
    "a = np.array([0,1])\n",
    "a.any()"
   ]
  },
  {
   "cell_type": "code",
   "execution_count": 50,
   "id": "658bf1bf",
   "metadata": {},
   "outputs": [
    {
     "data": {
      "text/plain": [
       "np.False_"
      ]
     },
     "execution_count": 50,
     "metadata": {},
     "output_type": "execute_result"
    }
   ],
   "source": [
    "a.all()"
   ]
  },
  {
   "cell_type": "code",
   "execution_count": 51,
   "id": "8971d72d",
   "metadata": {},
   "outputs": [
    {
     "data": {
      "text/plain": [
       "array([1, 2, 8])"
      ]
     },
     "execution_count": 51,
     "metadata": {},
     "output_type": "execute_result"
    }
   ],
   "source": [
    "# [d] cumprod, cumsum, diff\n",
    "# cumprod, cumsum分别表示累乘和累加函数,返回同长度的数组, diff表示和前一个元素做差,由于第一个元素为缺失值，因此在默认参数情况下，返回长度是原数组减1\n",
    "a = np.array([1,2,4])\n",
    "a.cumprod()"
   ]
  },
  {
   "cell_type": "code",
   "execution_count": 52,
   "id": "479a6ee4",
   "metadata": {},
   "outputs": [
    {
     "data": {
      "text/plain": [
       "array([1, 3, 7])"
      ]
     },
     "execution_count": 52,
     "metadata": {},
     "output_type": "execute_result"
    }
   ],
   "source": [
    "a.cumsum()"
   ]
  },
  {
   "cell_type": "code",
   "execution_count": 53,
   "id": "49ea3720",
   "metadata": {},
   "outputs": [
    {
     "data": {
      "text/plain": [
       "array([1, 2])"
      ]
     },
     "execution_count": 53,
     "metadata": {},
     "output_type": "execute_result"
    }
   ],
   "source": [
    "np.diff(a)"
   ]
  },
  {
   "cell_type": "code",
   "execution_count": 54,
   "id": "8b81854e",
   "metadata": {},
   "outputs": [
    {
     "data": {
      "text/plain": [
       "array([0, 1, 2, 3, 4])"
      ]
     },
     "execution_count": 54,
     "metadata": {},
     "output_type": "execute_result"
    }
   ],
   "source": [
    "# [e] 统计函数\n",
    "# 常用的统计函数包括max, min, mean, median, std, var, sum, quantile,其中分位数计算是全局方法，因此不能通过array.quantile的方法调用：\n",
    "target = np.arange(5)\n",
    "target"
   ]
  },
  {
   "cell_type": "code",
   "execution_count": 55,
   "id": "ada36f0f",
   "metadata": {},
   "outputs": [
    {
     "data": {
      "text/plain": [
       "np.int64(4)"
      ]
     },
     "execution_count": 55,
     "metadata": {},
     "output_type": "execute_result"
    }
   ],
   "source": [
    "target.max()"
   ]
  },
  {
   "cell_type": "code",
   "execution_count": null,
   "id": "78c0939c",
   "metadata": {},
   "outputs": [
    {
     "data": {
      "text/plain": [
       "np.float64(2.0)"
      ]
     },
     "execution_count": 56,
     "metadata": {},
     "output_type": "execute_result"
    }
   ],
   "source": [
    "np.quantile(target, 0.5) # 0.5分位数  "
   ]
  },
  {
   "cell_type": "code",
   "execution_count": 58,
   "id": "9e3dca3d",
   "metadata": {},
   "outputs": [
    {
     "data": {
      "text/plain": [
       "array([ 1.,  2., nan])"
      ]
     },
     "execution_count": 58,
     "metadata": {},
     "output_type": "execute_result"
    }
   ],
   "source": [
    "# 但是对于含有缺失值的数组,它们返回的结果也是缺失值，如果需要略过缺失值，必须使用nan*类型的函数，上述的几个统计函数都有对应的nan*函数\n",
    "target = np.array([1,2,np.nan])\n",
    "target"
   ]
  },
  {
   "cell_type": "code",
   "execution_count": 61,
   "id": "36eb8a04",
   "metadata": {},
   "outputs": [
    {
     "data": {
      "text/plain": [
       "np.float64(nan)"
      ]
     },
     "execution_count": 61,
     "metadata": {},
     "output_type": "execute_result"
    }
   ],
   "source": [
    "target.max()"
   ]
  },
  {
   "cell_type": "code",
   "execution_count": 62,
   "id": "b692860d",
   "metadata": {},
   "outputs": [
    {
     "data": {
      "text/plain": [
       "np.float64(2.0)"
      ]
     },
     "execution_count": 62,
     "metadata": {},
     "output_type": "execute_result"
    }
   ],
   "source": [
    "np.nanmax(target)"
   ]
  },
  {
   "cell_type": "code",
   "execution_count": 63,
   "id": "d605e770",
   "metadata": {},
   "outputs": [
    {
     "data": {
      "text/plain": [
       "np.float64(1.5)"
      ]
     },
     "execution_count": 63,
     "metadata": {},
     "output_type": "execute_result"
    }
   ],
   "source": [
    "np.nanquantile(target, 0.5)"
   ]
  },
  {
   "cell_type": "code",
   "execution_count": null,
   "id": "49d496f5",
   "metadata": {},
   "outputs": [
    {
     "data": {
      "text/plain": [
       "array([[ 11.66666667, -16.66666667],\n",
       "       [-16.66666667,  38.66666667]])"
      ]
     },
     "execution_count": 64,
     "metadata": {},
     "output_type": "execute_result"
    }
   ],
   "source": [
    "# 对于协方差和相关系数分别可以利用cov, corrcoef如下计算：\n",
    "target1 = np.array([1,3,5,9])\n",
    "target2 = np.array([1,5,3,-9])\n",
    "np.cov(target1, target2)  # 协方差矩阵"
   ]
  },
  {
   "cell_type": "code",
   "execution_count": 65,
   "id": "7db93a41",
   "metadata": {},
   "outputs": [
    {
     "data": {
      "text/plain": [
       "array([[ 1.        , -0.78470603],\n",
       "       [-0.78470603,  1.        ]])"
      ]
     },
     "execution_count": 65,
     "metadata": {},
     "output_type": "execute_result"
    }
   ],
   "source": [
    "np.corrcoef(target1, target2)  # 相关系数矩阵"
   ]
  },
  {
   "cell_type": "code",
   "execution_count": 66,
   "id": "b070c951",
   "metadata": {},
   "outputs": [
    {
     "data": {
      "text/plain": [
       "array([[1, 2, 3],\n",
       "       [4, 5, 6],\n",
       "       [7, 8, 9]])"
      ]
     },
     "execution_count": 66,
     "metadata": {},
     "output_type": "execute_result"
    }
   ],
   "source": [
    "# 最后，需要说明二维Numpy数组中统计函数的axis参数，它能够进行某一个维度下的统计特征计算，当axis=0时结果为列的统计指标，当axis=1时结果为行的统计指标:\n",
    "target = np.arange(1,10).reshape(3,-1)\n",
    "target"
   ]
  },
  {
   "cell_type": "code",
   "execution_count": 67,
   "id": "68a2200f",
   "metadata": {},
   "outputs": [
    {
     "data": {
      "text/plain": [
       "array([12, 15, 18])"
      ]
     },
     "execution_count": 67,
     "metadata": {},
     "output_type": "execute_result"
    }
   ],
   "source": [
    "target.sum(axis = 0)"
   ]
  },
  {
   "cell_type": "code",
   "execution_count": 69,
   "id": "b1a09323",
   "metadata": {},
   "outputs": [
    {
     "data": {
      "text/plain": [
       "array([ 6, 15, 24])"
      ]
     },
     "execution_count": 69,
     "metadata": {},
     "output_type": "execute_result"
    }
   ],
   "source": [
    "target.sum(axis = 1) "
   ]
  },
  {
   "cell_type": "markdown",
   "id": "a1401143",
   "metadata": {},
   "source": [
    "### 5.广播机制\n",
    "广播机制用于处理两个不同维度数组之间的操作，这里只讨论不超过两维的数组广播机制"
   ]
  },
  {
   "cell_type": "code",
   "execution_count": 70,
   "id": "0b1b3477",
   "metadata": {},
   "outputs": [
    {
     "data": {
      "text/plain": [
       "array([[4., 4.],\n",
       "       [4., 4.]])"
      ]
     },
     "execution_count": 70,
     "metadata": {},
     "output_type": "execute_result"
    }
   ],
   "source": [
    "# [a] 标量和数组的操作\n",
    "# 当一个标量和数组进行运算时，标量会自动把大小扩充为数组大小，之后进行逐元素操作：\n",
    "res = 3 * np.ones((2,2)) + 1\n",
    "res"
   ]
  },
  {
   "cell_type": "code",
   "execution_count": 71,
   "id": "a434fe0d",
   "metadata": {},
   "outputs": [
    {
     "data": {
      "text/plain": [
       "array([[0.25, 0.25],\n",
       "       [0.25, 0.25]])"
      ]
     },
     "execution_count": 71,
     "metadata": {},
     "output_type": "execute_result"
    }
   ],
   "source": [
    "res = 1 / res\n",
    "res"
   ]
  },
  {
   "cell_type": "code",
   "execution_count": 72,
   "id": "6df64f4d",
   "metadata": {},
   "outputs": [
    {
     "data": {
      "text/plain": [
       "array([[1., 1.],\n",
       "       [1., 1.],\n",
       "       [1., 1.]])"
      ]
     },
     "execution_count": 72,
     "metadata": {},
     "output_type": "execute_result"
    }
   ],
   "source": [
    "# [b] 二维数组之间的操作\n",
    "# 当两个数组维度完全一致时，使用对应元素的操作，否则会报错，除非其中的某个数组的维度是m*1或者1*n,那么会扩充其具有1的维度为另一个数组对应维度的大小\n",
    "# 例如，1*2数组和3*2数组做逐元素运算时会把第一个数组扩充为3*2数组，扩充时的对应数值进行赋值。但是，需要注意，如果第一个数组的维度是1*3，那么由于在第二维上的大小不匹配且不为1，此时报错\n",
    "res = np.ones((3,2))\n",
    "res"
   ]
  },
  {
   "cell_type": "code",
   "execution_count": null,
   "id": "6e20fe25",
   "metadata": {},
   "outputs": [
    {
     "data": {
      "text/plain": [
       "array([[2., 3.],\n",
       "       [2., 3.],\n",
       "       [2., 3.]])"
      ]
     },
     "execution_count": 73,
     "metadata": {},
     "output_type": "execute_result"
    }
   ],
   "source": [
    "res * np.array([[2,3]]) # 第二个数组扩充第一维度为3"
   ]
  },
  {
   "cell_type": "code",
   "execution_count": 74,
   "id": "4b0ea115",
   "metadata": {},
   "outputs": [
    {
     "data": {
      "text/plain": [
       "array([[2., 2.],\n",
       "       [3., 3.],\n",
       "       [4., 4.]])"
      ]
     },
     "execution_count": 74,
     "metadata": {},
     "output_type": "execute_result"
    }
   ],
   "source": [
    "res * np.array([[2],[3],[4]]) # 第二个数组扩充第二维度为2"
   ]
  },
  {
   "cell_type": "code",
   "execution_count": 77,
   "id": "bc73f552",
   "metadata": {},
   "outputs": [
    {
     "data": {
      "text/plain": [
       "array([[2., 2.],\n",
       "       [2., 2.],\n",
       "       [2., 2.]])"
      ]
     },
     "execution_count": 77,
     "metadata": {},
     "output_type": "execute_result"
    }
   ],
   "source": [
    "res * np.array([[2]])  # 等价于两次扩充，第二个数组两个维度分别扩充为3和2"
   ]
  },
  {
   "cell_type": "code",
   "execution_count": 78,
   "id": "bd8619ae",
   "metadata": {},
   "outputs": [
    {
     "data": {
      "text/plain": [
       "array([[2., 2., 2.],\n",
       "       [2., 2., 2.]])"
      ]
     },
     "execution_count": 78,
     "metadata": {},
     "output_type": "execute_result"
    }
   ],
   "source": [
    "# [c] 一维数组与二维数组的操作\n",
    "# 当一维数组A_k 与 二维数组B_m,n操作时，等价于把一维数组视为A_1,k的二维数组，使用的广播法则与[b]中一致，当k! = n 且 k，n都不是1时报错\n",
    "np.ones(3) + np.ones((2,3))"
   ]
  },
  {
   "cell_type": "code",
   "execution_count": 81,
   "id": "dccec7ff",
   "metadata": {},
   "outputs": [
    {
     "data": {
      "text/plain": [
       "array([[2., 2., 2.],\n",
       "       [2., 2., 2.]])"
      ]
     },
     "execution_count": 81,
     "metadata": {},
     "output_type": "execute_result"
    }
   ],
   "source": [
    "np.ones(3) + np.ones((2,1))"
   ]
  },
  {
   "cell_type": "code",
   "execution_count": 82,
   "id": "5a721937",
   "metadata": {},
   "outputs": [
    {
     "data": {
      "text/plain": [
       "array([[2., 2., 2.],\n",
       "       [2., 2., 2.]])"
      ]
     },
     "execution_count": 82,
     "metadata": {},
     "output_type": "execute_result"
    }
   ],
   "source": [
    "np.ones(1) + np.ones((2,3))"
   ]
  },
  {
   "cell_type": "markdown",
   "id": "7438fe7a",
   "metadata": {},
   "source": [
    "### 6.向量与矩阵计算"
   ]
  },
  {
   "cell_type": "code",
   "execution_count": 83,
   "id": "a69956a9",
   "metadata": {},
   "outputs": [
    {
     "data": {
      "text/plain": [
       "np.int64(22)"
      ]
     },
     "execution_count": 83,
     "metadata": {},
     "output_type": "execute_result"
    }
   ],
   "source": [
    "# [a] 向量内积: dot\n",
    "a = np.array([1,2,3])\n",
    "b = np.array([1,3,5])\n",
    "a.dot(b)"
   ]
  },
  {
   "cell_type": "code",
   "execution_count": null,
   "id": "03006170",
   "metadata": {},
   "outputs": [],
   "source": [
    "# [b] 向量范数和矩阵范数: np.linalg.norm\n",
    "# 在矩阵范数的计算中，最重要的是ord参数"
   ]
  },
  {
   "cell_type": "markdown",
   "id": "957fd637",
   "metadata": {},
   "source": [
    "![ord参数可选值](./PixPin_2025-10-21_14-30-58.png)"
   ]
  },
  {
   "cell_type": "code",
   "execution_count": 84,
   "id": "fca576bc",
   "metadata": {},
   "outputs": [
    {
     "data": {
      "text/plain": [
       "array([[0, 1],\n",
       "       [2, 3]])"
      ]
     },
     "execution_count": 84,
     "metadata": {},
     "output_type": "execute_result"
    }
   ],
   "source": [
    "matrix_target = np.arange(4).reshape(-1,2)\n",
    "matrix_target"
   ]
  },
  {
   "cell_type": "code",
   "execution_count": 85,
   "id": "96857897",
   "metadata": {},
   "outputs": [
    {
     "data": {
      "text/plain": [
       "np.float64(3.7416573867739413)"
      ]
     },
     "execution_count": 85,
     "metadata": {},
     "output_type": "execute_result"
    }
   ],
   "source": [
    "np.linalg.norm(matrix_target, ord='fro')"
   ]
  },
  {
   "cell_type": "code",
   "execution_count": 86,
   "id": "dcdea9f5",
   "metadata": {},
   "outputs": [
    {
     "data": {
      "text/plain": [
       "np.float64(5.0)"
      ]
     },
     "execution_count": 86,
     "metadata": {},
     "output_type": "execute_result"
    }
   ],
   "source": [
    "np.linalg.norm(matrix_target, np.inf)"
   ]
  },
  {
   "cell_type": "code",
   "execution_count": 87,
   "id": "e73a465d",
   "metadata": {},
   "outputs": [
    {
     "data": {
      "text/plain": [
       "np.float64(3.702459173643833)"
      ]
     },
     "execution_count": 87,
     "metadata": {},
     "output_type": "execute_result"
    }
   ],
   "source": [
    "np.linalg.norm(matrix_target, ord=2)"
   ]
  },
  {
   "cell_type": "code",
   "execution_count": 89,
   "id": "bb98dbc8",
   "metadata": {},
   "outputs": [
    {
     "data": {
      "text/plain": [
       "array([0, 1, 2, 3])"
      ]
     },
     "execution_count": 89,
     "metadata": {},
     "output_type": "execute_result"
    }
   ],
   "source": [
    "vector_target = np.arange(4)\n",
    "vector_target"
   ]
  },
  {
   "cell_type": "code",
   "execution_count": 90,
   "id": "c7a5f86d",
   "metadata": {},
   "outputs": [
    {
     "data": {
      "text/plain": [
       "np.float64(3.0)"
      ]
     },
     "execution_count": 90,
     "metadata": {},
     "output_type": "execute_result"
    }
   ],
   "source": [
    "np.linalg.norm(vector_target, np.inf)"
   ]
  },
  {
   "cell_type": "code",
   "execution_count": 91,
   "id": "62b05a06",
   "metadata": {},
   "outputs": [
    {
     "data": {
      "text/plain": [
       "np.float64(3.7416573867739413)"
      ]
     },
     "execution_count": 91,
     "metadata": {},
     "output_type": "execute_result"
    }
   ],
   "source": [
    "np.linalg.norm(vector_target, ord = 2)"
   ]
  },
  {
   "cell_type": "code",
   "execution_count": 92,
   "id": "dcd9b100",
   "metadata": {},
   "outputs": [
    {
     "data": {
      "text/plain": [
       "np.float64(3.3019272488946263)"
      ]
     },
     "execution_count": 92,
     "metadata": {},
     "output_type": "execute_result"
    }
   ],
   "source": [
    "np.linalg.norm(vector_target, ord = 3)"
   ]
  },
  {
   "cell_type": "code",
   "execution_count": 93,
   "id": "4f4e5e57",
   "metadata": {},
   "outputs": [
    {
     "data": {
      "text/plain": [
       "array([[0, 1],\n",
       "       [2, 3]])"
      ]
     },
     "execution_count": 93,
     "metadata": {},
     "output_type": "execute_result"
    }
   ],
   "source": [
    "# [c] 矩阵乘法: @\n",
    "a = np.arange(4).reshape(-1,2)\n",
    "a"
   ]
  },
  {
   "cell_type": "code",
   "execution_count": 94,
   "id": "f2fc4426",
   "metadata": {},
   "outputs": [
    {
     "data": {
      "text/plain": [
       "array([[-4, -3],\n",
       "       [-2, -1]])"
      ]
     },
     "execution_count": 94,
     "metadata": {},
     "output_type": "execute_result"
    }
   ],
   "source": [
    "b = np.arange(-4,0).reshape(-1,2)\n",
    "b"
   ]
  },
  {
   "cell_type": "code",
   "execution_count": 95,
   "id": "81a24c25",
   "metadata": {},
   "outputs": [
    {
     "data": {
      "text/plain": [
       "array([[ -2,  -1],\n",
       "       [-14,  -9]])"
      ]
     },
     "execution_count": 95,
     "metadata": {},
     "output_type": "execute_result"
    }
   ],
   "source": [
    "a@b"
   ]
  },
  {
   "cell_type": "markdown",
   "id": "6b95c652",
   "metadata": {},
   "source": [
    "### 三、练习"
   ]
  },
  {
   "cell_type": "code",
   "execution_count": 99,
   "id": "d2d19db7",
   "metadata": {},
   "outputs": [
    {
     "data": {
      "text/plain": [
       "[[np.int64(-2), np.int64(-1)], [np.int64(-14), np.int64(-9)]]"
      ]
     },
     "execution_count": 99,
     "metadata": {},
     "output_type": "execute_result"
    }
   ],
   "source": [
    "# Ex1:利用列表推导式实现矩阵乘法\n",
    "[[sum(a[i,k] * b[k,j] for k in range(a.shape[1])) for j in range(b.shape[1])] for i in range(a.shape[0])]"
   ]
  },
  {
   "cell_type": "code",
   "execution_count": 106,
   "id": "f481a0ae",
   "metadata": {},
   "outputs": [
    {
     "data": {
      "text/plain": [
       "array([[1.83333333, 3.66666667, 5.5       ],\n",
       "       [2.46666667, 3.08333333, 3.7       ],\n",
       "       [2.65277778, 3.03174603, 3.41071429]])"
      ]
     },
     "execution_count": 106,
     "metadata": {},
     "output_type": "execute_result"
    }
   ],
   "source": [
    "# Ex2: 更新矩阵\n",
    "A = np.array([[1,2,3],[4,5,6],[7,8,9]])\n",
    "B = A * (1/A).sum(axis = 1).reshape(-1,1)\n",
    "B"
   ]
  },
  {
   "cell_type": "code",
   "execution_count": 111,
   "id": "c10aba92",
   "metadata": {},
   "outputs": [
    {
     "data": {
      "text/plain": [
       "np.float64(11.842696601945802)"
      ]
     },
     "execution_count": 111,
     "metadata": {},
     "output_type": "execute_result"
    }
   ],
   "source": [
    "# Ex3: 卡方统计量\n",
    "np.random.seed(0)\n",
    "A = np.random.randint(10,20,(8,5))\n",
    "B = A.sum(0) * A.sum(1).reshape(-1,1) / A.sum()\n",
    "res = ((A - B) ** 2 / B).sum()\n",
    "res"
   ]
  },
  {
   "cell_type": "code",
   "execution_count": 112,
   "id": "e1e932ab",
   "metadata": {},
   "outputs": [
    {
     "data": {
      "text/plain": [
       "np.int64(100566)"
      ]
     },
     "execution_count": 112,
     "metadata": {},
     "output_type": "execute_result"
    }
   ],
   "source": [
    "# Ex4: 改进矩阵计算的性能\n",
    "# 原方法\n",
    "np.random.seed(0)\n",
    "m, n , p = 100, 80, 50\n",
    "B = np.random.randint(0,2,(m,p))\n",
    "U = np.random.randint(0,2,(p,n))\n",
    "Z = np.random.randint(0,2,(m,n))\n",
    "def solution(B, U, Z):\n",
    "    L_res = []\n",
    "    for i in range(m):\n",
    "        for j in range(n):\n",
    "            norm_value = ((B[i,:] - U[:,j]) ** 2).sum()\n",
    "            L_res.append(norm_value* Z[i,j])\n",
    "\n",
    "    return sum(L_res)\n",
    "solution(B, U, Z)"
   ]
  },
  {
   "cell_type": "code",
   "execution_count": 113,
   "id": "97b596dc",
   "metadata": {},
   "outputs": [
    {
     "data": {
      "text/plain": [
       "np.int64(100566)"
      ]
     },
     "execution_count": 113,
     "metadata": {},
     "output_type": "execute_result"
    }
   ],
   "source": [
    "# 改进方法\n",
    "(((B**2).sum(1).reshape(-1,1) + (U**2).sum(0) - 2 * B @ U) * Z).sum()"
   ]
  },
  {
   "cell_type": "code",
   "execution_count": 114,
   "id": "4299e1ad",
   "metadata": {},
   "outputs": [
    {
     "name": "stdout",
     "output_type": "stream",
     "text": [
      "18.4 ms ± 427 μs per loop (mean ± std. dev. of 7 runs, 30 loops each)\n"
     ]
    }
   ],
   "source": [
    "# 对比性能\n",
    "%timeit -n 30 solution(B, U, Z)"
   ]
  },
  {
   "cell_type": "code",
   "execution_count": 115,
   "id": "4185ae6c",
   "metadata": {},
   "outputs": [
    {
     "name": "stdout",
     "output_type": "stream",
     "text": [
      "204 μs ± 30.5 μs per loop (mean ± std. dev. of 7 runs, 30 loops each)\n"
     ]
    }
   ],
   "source": [
    "%timeit -n 30 (((B**2).sum(1).reshape(-1,1) + (U**2).sum(0) - 2 * B @ U) * Z).sum()"
   ]
  },
  {
   "cell_type": "code",
   "execution_count": 120,
   "id": "a37e1881",
   "metadata": {},
   "outputs": [
    {
     "data": {
      "text/plain": [
       "np.int64(4)"
      ]
     },
     "execution_count": 120,
     "metadata": {},
     "output_type": "execute_result"
    }
   ],
   "source": [
    "# Ex5:连续整数的最大长度\n",
    "f = lambda x : np.diff(np.nonzero(np.r_[1, np.diff(x) != 1 ,1])).max()\n",
    "f([3,2,1,2,3,4,6])"
   ]
  }
 ],
 "metadata": {
  "kernelspec": {
   "display_name": "base",
   "language": "python",
   "name": "python3"
  },
  "language_info": {
   "codemirror_mode": {
    "name": "ipython",
    "version": 3
   },
   "file_extension": ".py",
   "mimetype": "text/x-python",
   "name": "python",
   "nbconvert_exporter": "python",
   "pygments_lexer": "ipython3",
   "version": "3.13.5"
  }
 },
 "nbformat": 4,
 "nbformat_minor": 5
}
