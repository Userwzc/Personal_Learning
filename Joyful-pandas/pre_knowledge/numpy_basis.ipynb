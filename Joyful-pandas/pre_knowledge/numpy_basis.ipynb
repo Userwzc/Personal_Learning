{
 "cells": [
  {
   "cell_type": "markdown",
   "id": "fb3128bf-5bd6-4e6a-a665-d62f11f69a80",
   "metadata": {},
   "source": [
    "## 二、Numpy基础\n",
    "### 1.np数组的构造"
   ]
  },
  {
   "cell_type": "code",
   "execution_count": 4,
   "id": "983e9299-407c-420e-bad4-ceb4b959ed2b",
   "metadata": {},
   "outputs": [
    {
     "data": {
      "text/plain": [
       "array([1, 2, 3])"
      ]
     },
     "execution_count": 4,
     "metadata": {},
     "output_type": "execute_result"
    }
   ],
   "source": [
    "# 最一般的方式是通过array来构造\n",
    "import numpy as np\n",
    "np.array([1,2,3])"
   ]
  },
  {
   "cell_type": "code",
   "execution_count": 5,
   "id": "f0571414",
   "metadata": {},
   "outputs": [
    {
     "data": {
      "text/plain": [
       "array([1. , 1.4, 1.8, 2.2, 2.6, 3. , 3.4, 3.8, 4.2, 4.6, 5. ])"
      ]
     },
     "execution_count": 5,
     "metadata": {},
     "output_type": "execute_result"
    }
   ],
   "source": [
    "# 下面讨论一些特殊数组的生成方式\n",
    "# a.等差序列：np.linspace;np.arange\n",
    "np.linspace(1,5,11) # 起始、终止（包含）、样本个数"
   ]
  },
  {
   "cell_type": "code",
   "execution_count": 6,
   "id": "666ea2ea",
   "metadata": {},
   "outputs": [
    {
     "data": {
      "text/plain": [
       "array([1, 3])"
      ]
     },
     "execution_count": 6,
     "metadata": {},
     "output_type": "execute_result"
    }
   ],
   "source": [
    "np.arange(1,5,2) # 起始、终止（不包含）、步长"
   ]
  },
  {
   "cell_type": "code",
   "execution_count": 7,
   "id": "f5969621",
   "metadata": {},
   "outputs": [
    {
     "data": {
      "text/plain": [
       "array([[0., 0., 0.],\n",
       "       [0., 0., 0.]])"
      ]
     },
     "execution_count": 7,
     "metadata": {},
     "output_type": "execute_result"
    }
   ],
   "source": [
    "# b.特殊矩阵：zeros, eye, full\n",
    "np.zeros((2,3)) # 传入元组表示各维度大小"
   ]
  },
  {
   "cell_type": "code",
   "execution_count": 8,
   "id": "8400c8dc",
   "metadata": {},
   "outputs": [
    {
     "data": {
      "text/plain": [
       "array([[1., 0., 0.],\n",
       "       [0., 1., 0.],\n",
       "       [0., 0., 1.]])"
      ]
     },
     "execution_count": 8,
     "metadata": {},
     "output_type": "execute_result"
    }
   ],
   "source": [
    "np.eye(3) # 3*3的单位矩阵"
   ]
  },
  {
   "cell_type": "code",
   "execution_count": 9,
   "id": "36ad890a",
   "metadata": {},
   "outputs": [
    {
     "data": {
      "text/plain": [
       "array([[0., 1., 0.],\n",
       "       [0., 0., 1.],\n",
       "       [0., 0., 0.]])"
      ]
     },
     "execution_count": 9,
     "metadata": {},
     "output_type": "execute_result"
    }
   ],
   "source": [
    "np.eye(3,k = 1) # 偏移主对角线1个单位的伪单位矩阵"
   ]
  },
  {
   "cell_type": "code",
   "execution_count": 10,
   "id": "a3f2bd12",
   "metadata": {},
   "outputs": [
    {
     "data": {
      "text/plain": [
       "array([[10, 10, 10],\n",
       "       [10, 10, 10]])"
      ]
     },
     "execution_count": 10,
     "metadata": {},
     "output_type": "execute_result"
    }
   ],
   "source": [
    "np.full((2,3),10) # 元组传入大小,10为填充值"
   ]
  },
  {
   "cell_type": "code",
   "execution_count": 11,
   "id": "e347aa19",
   "metadata": {},
   "outputs": [
    {
     "data": {
      "text/plain": [
       "array([[1, 2, 3],\n",
       "       [1, 2, 3]])"
      ]
     },
     "execution_count": 11,
     "metadata": {},
     "output_type": "execute_result"
    }
   ],
   "source": [
    "np.full((2,3),[1,2,3]) # 每行填入相同的列表"
   ]
  },
  {
   "cell_type": "code",
   "execution_count": 12,
   "id": "47569fbb",
   "metadata": {},
   "outputs": [
    {
     "data": {
      "text/plain": [
       "array([0.20528528, 0.02017853, 0.52180116])"
      ]
     },
     "execution_count": 12,
     "metadata": {},
     "output_type": "execute_result"
    }
   ],
   "source": [
    "# c.随机矩阵: np.random\n",
    "# 最常用的随机生成函数为rand,randn, randint,choice,它们分别表示0-1均匀分布的随机数组，标准正态分布的随机数组，随机整数组和随机列表抽样：\n",
    "np.random.rand(3) # 3个0-1均匀分布的随机数"
   ]
  },
  {
   "cell_type": "code",
   "execution_count": 13,
   "id": "10950a0e",
   "metadata": {},
   "outputs": [
    {
     "data": {
      "text/plain": [
       "array([[0.07464807, 0.46602449, 0.77230185],\n",
       "       [0.54934929, 0.17661442, 0.57601503],\n",
       "       [0.36367762, 0.5320297 , 0.47917693]])"
      ]
     },
     "execution_count": 13,
     "metadata": {},
     "output_type": "execute_result"
    }
   ],
   "source": [
    "np.random.rand(3,3) # 3*3的0-1均匀分布随机矩阵"
   ]
  },
  {
   "cell_type": "code",
   "execution_count": 14,
   "id": "84f653ed",
   "metadata": {},
   "outputs": [
    {
     "data": {
      "text/plain": [
       "array([13.18064994,  6.8596637 ,  7.35640808])"
      ]
     },
     "execution_count": 14,
     "metadata": {},
     "output_type": "execute_result"
    }
   ],
   "source": [
    "# 对于服从区间a到b上的均匀分布可以如下生成：\n",
    "a, b = 5, 15\n",
    "(b-a) * np.random.rand(3) + a  # 3个服从a到b均匀分布的随机数"
   ]
  },
  {
   "cell_type": "code",
   "execution_count": 16,
   "id": "7fa07859",
   "metadata": {},
   "outputs": [
    {
     "data": {
      "text/plain": [
       "array([5.72747991, 7.04305979, 8.52612648])"
      ]
     },
     "execution_count": 16,
     "metadata": {},
     "output_type": "execute_result"
    }
   ],
   "source": [
    "# 一般地，可以选择已有的库函数：\n",
    "np.random.uniform(5,15,3)  # 3个服从5到15均匀分布的随机数"
   ]
  },
  {
   "cell_type": "code",
   "execution_count": 17,
   "id": "12618c39",
   "metadata": {},
   "outputs": [
    {
     "data": {
      "text/plain": [
       "array([0.31958996, 1.35495479, 0.11588977])"
      ]
     },
     "execution_count": 17,
     "metadata": {},
     "output_type": "execute_result"
    }
   ],
   "source": [
    "# randn生成N(0,1)的标准正态分布:\n",
    "np.random.randn(3)"
   ]
  },
  {
   "cell_type": "code",
   "execution_count": 18,
   "id": "7eaf0adf",
   "metadata": {},
   "outputs": [
    {
     "data": {
      "text/plain": [
       "array([[-0.71266969, -0.46010687],\n",
       "       [-0.80847811,  0.45621275]])"
      ]
     },
     "execution_count": 18,
     "metadata": {},
     "output_type": "execute_result"
    }
   ],
   "source": [
    "np.random.randn(2,2) # 2*2标准正态分布随机矩阵"
   ]
  },
  {
   "cell_type": "code",
   "execution_count": 19,
   "id": "b3d827c4",
   "metadata": {},
   "outputs": [
    {
     "data": {
      "text/plain": [
       "array([2.80714773, 8.24919609, 4.20626567])"
      ]
     },
     "execution_count": 19,
     "metadata": {},
     "output_type": "execute_result"
    }
   ],
   "source": [
    "# 对于服从方差为σ²，均值为μ的正态分布N(μ,σ²)的随机数，可以通过如下变换得到：\n",
    "sigma, mu = 2.5, 3\n",
    "mu + sigma * np.random.randn(3)"
   ]
  },
  {
   "cell_type": "code",
   "execution_count": 20,
   "id": "68469bc4",
   "metadata": {},
   "outputs": [
    {
     "data": {
      "text/plain": [
       "array([-1.1361075 , -1.10522319,  0.83871516])"
      ]
     },
     "execution_count": 20,
     "metadata": {},
     "output_type": "execute_result"
    }
   ],
   "source": [
    "# 同样的，也可以通过已有的库函数生成：\n",
    "np.random.normal(3,2.5,3)  # 3个服从N(3,2.5²)的随机数"
   ]
  },
  {
   "cell_type": "code",
   "execution_count": null,
   "id": "44d827d6",
   "metadata": {},
   "outputs": [
    {
     "data": {
      "text/plain": [
       "array([[ 5, 14],\n",
       "       [12,  9]], dtype=int32)"
      ]
     },
     "execution_count": 22,
     "metadata": {},
     "output_type": "execute_result"
    }
   ],
   "source": [
    "# randint可以指定生成随机整数的最小值最大值（不包含）和维度大小：\n",
    "low, high, size = 5, 15, (2,2) # 生成2*2的5到14之间的随机整数矩阵\n",
    "np.random.randint(low, high, size)"
   ]
  },
  {
   "cell_type": "code",
   "execution_count": 23,
   "id": "1a405699",
   "metadata": {},
   "outputs": [
    {
     "data": {
      "text/plain": [
       "array(['a', 'b'], dtype='<U1')"
      ]
     },
     "execution_count": 23,
     "metadata": {},
     "output_type": "execute_result"
    }
   ],
   "source": [
    "# choice可以从给定的列表中，以一定概率和方式抽取结果，当不指定概率时为均匀采样，默认抽取方式为有放回抽样：\n",
    "my_list = ['a','b','c','d']\n",
    "np.random.choice(my_list, 2, replace = False, p = [0.1,0.7,0.1,0.1]) # 从my_list中无放回抽取2个元素，且'b'被抽中的概率为0.7"
   ]
  },
  {
   "cell_type": "code",
   "execution_count": 24,
   "id": "c5e5d8f1",
   "metadata": {},
   "outputs": [
    {
     "data": {
      "text/plain": [
       "array([['a', 'b', 'b'],\n",
       "       ['b', 'c', 'a'],\n",
       "       ['a', 'a', 'c']], dtype='<U1')"
      ]
     },
     "execution_count": 24,
     "metadata": {},
     "output_type": "execute_result"
    }
   ],
   "source": [
    "np.random.choice(my_list,(3,3)) # 有放回抽取3*3元素矩阵"
   ]
  },
  {
   "cell_type": "code",
   "execution_count": 25,
   "id": "57b8ed33",
   "metadata": {},
   "outputs": [
    {
     "data": {
      "text/plain": [
       "array(['c', 'b', 'd', 'a'], dtype='<U1')"
      ]
     },
     "execution_count": 25,
     "metadata": {},
     "output_type": "execute_result"
    }
   ],
   "source": [
    "# 当返回的元素个数与原列表相同时，不放回抽样等价于使用permutation函数，即打散原列表：\n",
    "np.random.permutation(my_list)"
   ]
  },
  {
   "cell_type": "code",
   "execution_count": 26,
   "id": "2101922a",
   "metadata": {},
   "outputs": [
    {
     "data": {
      "text/plain": [
       "0.5488135039273248"
      ]
     },
     "execution_count": 26,
     "metadata": {},
     "output_type": "execute_result"
    }
   ],
   "source": [
    "# 最后需要提到的是随机种子，它能够固定随机数的输出结果:\n",
    "np.random.seed(0)\n",
    "np.random.rand()"
   ]
  },
  {
   "cell_type": "code",
   "execution_count": 27,
   "id": "57910309",
   "metadata": {},
   "outputs": [
    {
     "data": {
      "text/plain": [
       "0.5488135039273248"
      ]
     },
     "execution_count": 27,
     "metadata": {},
     "output_type": "execute_result"
    }
   ],
   "source": [
    "np.random.seed(0)\n",
    "np.random.rand()"
   ]
  }
 ],
 "metadata": {
  "kernelspec": {
   "display_name": "base",
   "language": "python",
   "name": "python3"
  },
  "language_info": {
   "codemirror_mode": {
    "name": "ipython",
    "version": 3
   },
   "file_extension": ".py",
   "mimetype": "text/x-python",
   "name": "python",
   "nbconvert_exporter": "python",
   "pygments_lexer": "ipython3",
   "version": "3.13.5"
  }
 },
 "nbformat": 4,
 "nbformat_minor": 5
}
