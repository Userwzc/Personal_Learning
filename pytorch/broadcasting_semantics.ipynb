{
 "cells": [
  {
   "cell_type": "markdown",
   "metadata": {},
   "source": [
    "- General semantics    \n",
    "Two tensors are “broadcastable” if the following rules hold:\n",
    "- Each tensor has at least one dimension.\n",
    "\n",
    "- When iterating over the dimension sizes, starting at the trailing dimension, the dimension sizes must either be equal, one of them is 1, or one of them does not exist."
   ]
  },
  {
   "cell_type": "code",
   "execution_count": 1,
   "metadata": {},
   "outputs": [],
   "source": [
    "import torch\n",
    "x = torch.empty(5,7,3)\n",
    "y = torch.empty(5,7,3)\n",
    "# same shapes are always broadcastable (i.e. the above rules always hold)"
   ]
  },
  {
   "cell_type": "code",
   "execution_count": null,
   "metadata": {},
   "outputs": [],
   "source": [
    "x = torch.empty((0,))\n",
    "y = torch.empty(2,2)\n",
    "# x and y are not broadcastable, because x does not have at least 1 dimension"
   ]
  },
  {
   "cell_type": "code",
   "execution_count": null,
   "metadata": {},
   "outputs": [],
   "source": [
    "# can line up trailing dimensions\n",
    "x = torch.empty(5,3,4,1)\n",
    "y = torch.empty(3,1,1)\n",
    "# x and y are broadcastable.\n",
    "# 1st trailing dimension: both have size 1\n",
    "# 2nd trailing dimension: y has size 1\n",
    "# 3rd trailing dimension: x size == y size\n",
    "# 4th trailing dimension: y dimension doesn't exist"
   ]
  },
  {
   "cell_type": "code",
   "execution_count": null,
   "metadata": {},
   "outputs": [],
   "source": [
    "# but:\n",
    "x = torch.empty(5,2,4,1)\n",
    "y = torch.empty(3,1,1)\n",
    "# x and y are not broadcastable, because in the 3rd trailing dimension 2 != 3"
   ]
  },
  {
   "cell_type": "markdown",
   "metadata": {},
   "source": [
    "If two tensors x, y are “broadcastable”, the resulting tensor size is calculated as follows:\n",
    "\n",
    "If the number of dimensions of x and y are not equal, prepend 1 to the dimensions of the tensor with fewer dimensions to make them equal length.\n",
    "\n",
    "Then, for each dimension size, the resulting dimension size is the max of the sizes of x and y along that dimension."
   ]
  },
  {
   "cell_type": "code",
   "execution_count": 2,
   "metadata": {},
   "outputs": [
    {
     "data": {
      "text/plain": [
       "torch.Size([5, 3, 4, 1])"
      ]
     },
     "execution_count": 2,
     "metadata": {},
     "output_type": "execute_result"
    }
   ],
   "source": [
    "# can line up trailing dimensions to make reading easier\n",
    "x = torch.empty(5,1,4,1)\n",
    "y = torch.empty(  3,1,1)\n",
    "(x + y).size()"
   ]
  },
  {
   "cell_type": "code",
   "execution_count": 3,
   "metadata": {},
   "outputs": [
    {
     "data": {
      "text/plain": [
       "torch.Size([3, 1, 7])"
      ]
     },
     "execution_count": 3,
     "metadata": {},
     "output_type": "execute_result"
    }
   ],
   "source": [
    "# but not necessary:\n",
    "x = torch.empty(1)\n",
    "y = torch.empty(3,1,7)\n",
    "(x + y).size()"
   ]
  },
  {
   "cell_type": "code",
   "execution_count": 4,
   "metadata": {},
   "outputs": [
    {
     "ename": "RuntimeError",
     "evalue": "The size of tensor a (2) must match the size of tensor b (3) at non-singleton dimension 1",
     "output_type": "error",
     "traceback": [
      "\u001b[31m---------------------------------------------------------------------------\u001b[39m",
      "\u001b[31mRuntimeError\u001b[39m                              Traceback (most recent call last)",
      "\u001b[36mCell\u001b[39m\u001b[36m \u001b[39m\u001b[32mIn[4]\u001b[39m\u001b[32m, line 3\u001b[39m\n\u001b[32m      1\u001b[39m x = torch.empty(\u001b[32m5\u001b[39m,\u001b[32m2\u001b[39m,\u001b[32m4\u001b[39m,\u001b[32m1\u001b[39m)\n\u001b[32m      2\u001b[39m y = torch.empty(\u001b[32m3\u001b[39m,\u001b[32m1\u001b[39m,\u001b[32m1\u001b[39m)\n\u001b[32m----> \u001b[39m\u001b[32m3\u001b[39m (\u001b[43mx\u001b[49m\u001b[43m \u001b[49m\u001b[43m+\u001b[49m\u001b[43m \u001b[49m\u001b[43my\u001b[49m).size()\n",
      "\u001b[31mRuntimeError\u001b[39m: The size of tensor a (2) must match the size of tensor b (3) at non-singleton dimension 1"
     ]
    }
   ],
   "source": [
    "x = torch.empty(5,2,4,1)\n",
    "y = torch.empty(3,1,1)\n",
    "(x + y).size()"
   ]
  },
  {
   "cell_type": "markdown",
   "metadata": {},
   "source": [
    "- In-place semantics    \n",
    "  One complication is that in-place operations do not allow the in-place tensor to change shape as a result of the broadcast.    \n",
    "  一个复杂的问题是，就地操作不允许就地张量在广播的结果下改变形状"
   ]
  },
  {
   "cell_type": "code",
   "execution_count": 9,
   "metadata": {},
   "outputs": [
    {
     "data": {
      "text/plain": [
       "torch.Size([5, 3, 4, 1])"
      ]
     },
     "execution_count": 9,
     "metadata": {},
     "output_type": "execute_result"
    }
   ],
   "source": [
    "x = torch.empty(5,3,4,1)\n",
    "y = torch.empty(3,1,1)\n",
    "(x.add_(y)).size()"
   ]
  },
  {
   "cell_type": "code",
   "execution_count": 8,
   "metadata": {},
   "outputs": [
    {
     "ename": "RuntimeError",
     "evalue": "output with shape [1, 3, 1] doesn't match the broadcast shape [3, 3, 7]",
     "output_type": "error",
     "traceback": [
      "\u001b[31m---------------------------------------------------------------------------\u001b[39m",
      "\u001b[31mRuntimeError\u001b[39m                              Traceback (most recent call last)",
      "\u001b[36mCell\u001b[39m\u001b[36m \u001b[39m\u001b[32mIn[8]\u001b[39m\u001b[32m, line 4\u001b[39m\n\u001b[32m      2\u001b[39m x = torch.empty(\u001b[32m1\u001b[39m,\u001b[32m3\u001b[39m,\u001b[32m1\u001b[39m)\n\u001b[32m      3\u001b[39m y = torch.empty(\u001b[32m3\u001b[39m,\u001b[32m1\u001b[39m,\u001b[32m7\u001b[39m)\n\u001b[32m----> \u001b[39m\u001b[32m4\u001b[39m (\u001b[43mx\u001b[49m\u001b[43m.\u001b[49m\u001b[43madd_\u001b[49m\u001b[43m(\u001b[49m\u001b[43my\u001b[49m\u001b[43m)\u001b[49m).size()\n",
      "\u001b[31mRuntimeError\u001b[39m: output with shape [1, 3, 1] doesn't match the broadcast shape [3, 3, 7]"
     ]
    }
   ],
   "source": [
    "# but:\n",
    "x = torch.empty(1,3,1)\n",
    "y = torch.empty(3,1,7)\n",
    "(x.add_(y)).size()"
   ]
  },
  {
   "cell_type": "markdown",
   "metadata": {},
   "source": [
    "- Backwards compatibility    \n",
    "  PyTorch 的早期版本允许某些逐点函数在形状不同的张量上执行，只要每个张量中的元素数量相等。然后，逐点操作将通过将每个张量视为一维来执行。现在，PyTorch 支持广播，而“一维”逐点行为已被弃用，当张量不可广播但具有相同数量的元素时，将生成 Python 警告"
   ]
  },
  {
   "cell_type": "code",
   "execution_count": null,
   "metadata": {},
   "outputs": [
    {
     "data": {
      "text/plain": [
       "tensor([[1.2891, 1.4053, 3.2596, 0.4619],\n",
       "        [1.2891, 1.4053, 3.2596, 0.4619],\n",
       "        [1.2891, 1.4053, 3.2596, 0.4619],\n",
       "        [1.2891, 1.4053, 3.2596, 0.4619]])"
      ]
     },
     "execution_count": 11,
     "metadata": {},
     "output_type": "execute_result"
    }
   ],
   "source": [
    "# 请注意，引入广播可能会导致在不具有相同形状但可广播且具有相同元素数量的两个张量之间出现向后不兼容的更改。例如：\n",
    "torch.add(torch.ones(4,1), torch.randn(4))\n",
    "# 之前会生成大小为：torch.Size([4,1]) 的 Tensor，但现在生成大小为：torch.Size([4,4]) 的 Tensor。\n"
   ]
  },
  {
   "cell_type": "code",
   "execution_count": 15,
   "metadata": {},
   "outputs": [
    {
     "data": {
      "text/plain": [
       "tensor([[2., 2., 2., 2.],\n",
       "        [2., 2., 2., 2.],\n",
       "        [2., 2., 2., 2.],\n",
       "        [2., 2., 2., 2.]])"
      ]
     },
     "execution_count": 15,
     "metadata": {},
     "output_type": "execute_result"
    }
   ],
   "source": [
    "# 为了帮助您识别代码中可能存在的由广播引起的向后不兼容性案例，\n",
    "# 您可以设置 torch.utils.backcompat.broadcast_warning.enabled 为 True，这将在这种情况下生成 Python 警告。\n",
    "torch.utils.backcompat.broadcast_warning.enabled = True\n",
    "torch.add(torch.ones(4,1),torch.ones(4))"
   ]
  }
 ],
 "metadata": {
  "kernelspec": {
   "display_name": "jupyter",
   "language": "python",
   "name": "python3"
  },
  "language_info": {
   "codemirror_mode": {
    "name": "ipython",
    "version": 3
   },
   "file_extension": ".py",
   "mimetype": "text/x-python",
   "name": "python",
   "nbconvert_exporter": "python",
   "pygments_lexer": "ipython3",
   "version": "3.13.2"
  }
 },
 "nbformat": 4,
 "nbformat_minor": 2
}
