{
 "cells": [
  {
   "cell_type": "code",
   "execution_count": 2,
   "id": "1fe09484-3492-4bc0-866c-93b4697f0241",
   "metadata": {},
   "outputs": [
    {
     "name": "stdout",
     "output_type": "stream",
     "text": [
      "your torch library is here:['/home/wzc/miniconda3/envs/jupyter/lib/python3.13/site-packages/torch']\n",
      "your nn library is here:['/home/wzc/miniconda3/envs/jupyter/lib/python3.13/site-packages/torch/nn']\n",
      "your optim library is here:['/home/wzc/miniconda3/envs/jupyter/lib/python3.13/site-packages/torch/optim']\n"
     ]
    }
   ],
   "source": [
    "import torch\n",
    "import torch.nn as nn\n",
    "import torch.optim as optim\n",
    "from torch.utils.data import DataLoader,Dataset\n",
    "print(\"your torch library is here:{}\".format(torch.__path__))\n",
    "print(\"your nn library is here:{}\".format(nn.__path__))\n",
    "print(\"your optim library is here:{}\".format(optim.__path__))"
   ]
  }
 ],
 "metadata": {
  "kernelspec": {
   "display_name": "Python 3 (ipykernel)",
   "language": "python",
   "name": "python3"
  },
  "language_info": {
   "codemirror_mode": {
    "name": "ipython",
    "version": 3
   },
   "file_extension": ".py",
   "mimetype": "text/x-python",
   "name": "python",
   "nbconvert_exporter": "python",
   "pygments_lexer": "ipython3",
   "version": "3.13.2"
  }
 },
 "nbformat": 4,
 "nbformat_minor": 5
}
