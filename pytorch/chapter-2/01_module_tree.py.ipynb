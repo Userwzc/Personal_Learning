{
 "cells": [
  {
   "cell_type": "code",
   "execution_count": 2,
   "id": "1fe09484-3492-4bc0-866c-93b4697f0241",
   "metadata": {},
   "outputs": [
    {
     "name": "stdout",
     "output_type": "stream",
     "text": [
      "your torch library is here:['/home/wzc/miniconda3/envs/jupyter/lib/python3.13/site-packages/torch']\n",
      "your nn library is here:['/home/wzc/miniconda3/envs/jupyter/lib/python3.13/site-packages/torch/nn']\n",
      "your optim library is here:['/home/wzc/miniconda3/envs/jupyter/lib/python3.13/site-packages/torch/optim']\n"
     ]
    }
   ],
   "source": [
    "import torch\n",
    "import torch.nn as nn\n",
    "import torch.optim as optim\n",
    "from torch.utils.data import DataLoader,Dataset\n",
    "print(\"your torch library is here:{}\".format(torch.__path__))\n",
    "print(\"your nn library is here:{}\".format(nn.__path__))\n",
    "print(\"your optim library is here:{}\".format(optim.__path__))"
   ]
  },
  {
   "cell_type": "code",
   "execution_count": 3,
   "id": "9930bf42",
   "metadata": {},
   "outputs": [
    {
     "name": "stdout",
     "output_type": "stream",
     "text": [
      "<class 'type'> <class 'module'>\n"
     ]
    }
   ],
   "source": [
    "print(type(DataLoader), type(nn))"
   ]
  },
  {
   "cell_type": "code",
   "execution_count": null,
   "id": "7d827ccf",
   "metadata": {},
   "outputs": [],
   "source": [
    "# print(\"your DataLoader library in here:{}\".format(DataLoader.__path__))  # 思考：这行代码为什么报错？\n",
    "# print(\"your Dataset library in here:{}\".format(Dataset.__path__))        # 思考：这行代码为什么报错？"
   ]
  },
  {
   "cell_type": "code",
   "execution_count": 4,
   "id": "437f670e",
   "metadata": {},
   "outputs": [
    {
     "name": "stdout",
     "output_type": "stream",
     "text": [
      "DataLoader is defined in module: torch.utils.data.dataloader\n",
      "Dataset is defined in module: torch.utils.data.dataset\n"
     ]
    }
   ],
   "source": [
    "# 如果想查看类所在的模块\n",
    "print(\"DataLoader is defined in module:\", DataLoader.__module__)\n",
    "print(\"Dataset is defined in module:\", Dataset.__module__)"
   ]
  },
  {
   "cell_type": "code",
   "execution_count": 5,
   "id": "633bd575",
   "metadata": {},
   "outputs": [
    {
     "name": "stdout",
     "output_type": "stream",
     "text": [
      "torch.utils.data module path: /home/wzc/miniconda3/envs/jupyter/lib/python3.13/site-packages/torch/utils/data/__init__.py\n"
     ]
    }
   ],
   "source": [
    "# 如果想查看模块的文件路径\n",
    "print(\"torch.utils.data module path:\", torch.utils.data.__file__)"
   ]
  }
 ],
 "metadata": {
  "kernelspec": {
   "display_name": "jupyter",
   "language": "python",
   "name": "python3"
  },
  "language_info": {
   "codemirror_mode": {
    "name": "ipython",
    "version": 3
   },
   "file_extension": ".py",
   "mimetype": "text/x-python",
   "name": "python",
   "nbconvert_exporter": "python",
   "pygments_lexer": "ipython3",
   "version": "3.13.2"
  }
 },
 "nbformat": 4,
 "nbformat_minor": 5
}
